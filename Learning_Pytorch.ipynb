{
  "nbformat": 4,
  "nbformat_minor": 0,
  "metadata": {
    "colab": {
      "provenance": [],
      "authorship_tag": "ABX9TyMnTWTi1mt+juskzC03b3rT",
      "include_colab_link": true
    },
    "kernelspec": {
      "name": "python3",
      "display_name": "Python 3"
    },
    "language_info": {
      "name": "python"
    }
  },
  "cells": [
    {
      "cell_type": "markdown",
      "metadata": {
        "id": "view-in-github",
        "colab_type": "text"
      },
      "source": [
        "<a href=\"https://colab.research.google.com/github/boscochanam/pythonprac/blob/master/Learning_Pytorch.ipynb\" target=\"_parent\"><img src=\"https://colab.research.google.com/assets/colab-badge.svg\" alt=\"Open In Colab\"/></a>"
      ]
    },
    {
      "cell_type": "code",
      "execution_count": 1,
      "metadata": {
        "id": "Yo-tcjNIK98F"
      },
      "outputs": [],
      "source": [
        "import torch"
      ]
    },
    {
      "cell_type": "code",
      "source": [
        "print(torch.__version__)"
      ],
      "metadata": {
        "colab": {
          "base_uri": "https://localhost:8080/"
        },
        "id": "YOQYMX4gMbj9",
        "outputId": "643b8582-2bec-4795-c7ee-b04d3ce38b29"
      },
      "execution_count": 2,
      "outputs": [
        {
          "output_type": "stream",
          "name": "stdout",
          "text": [
            "2.3.1+cu121\n"
          ]
        }
      ]
    },
    {
      "cell_type": "code",
      "source": [
        "TENSOR = torch.tensor([[1,2,3],[4,5,6],[7,8,9]])"
      ],
      "metadata": {
        "id": "E-O6ilwANhWq"
      },
      "execution_count": 3,
      "outputs": []
    },
    {
      "cell_type": "code",
      "source": [
        "TENSOR"
      ],
      "metadata": {
        "colab": {
          "base_uri": "https://localhost:8080/"
        },
        "id": "0Fs9IMOpc1PI",
        "outputId": "a20db6d1-1136-489c-a267-91fd307852ee"
      },
      "execution_count": 4,
      "outputs": [
        {
          "output_type": "execute_result",
          "data": {
            "text/plain": [
              "tensor([[1, 2, 3],\n",
              "        [4, 5, 6],\n",
              "        [7, 8, 9]])"
            ]
          },
          "metadata": {},
          "execution_count": 4
        }
      ]
    },
    {
      "cell_type": "code",
      "source": [
        "TENSOR.ndim"
      ],
      "metadata": {
        "colab": {
          "base_uri": "https://localhost:8080/"
        },
        "id": "JeSmvpEmc2mt",
        "outputId": "011d681e-2faf-4f6c-febf-ddd5e14365bc"
      },
      "execution_count": 5,
      "outputs": [
        {
          "output_type": "execute_result",
          "data": {
            "text/plain": [
              "2"
            ]
          },
          "metadata": {},
          "execution_count": 5
        }
      ]
    },
    {
      "cell_type": "markdown",
      "source": [
        "## Random Tensors"
      ],
      "metadata": {
        "id": "9CBPHjsSc4ql"
      }
    },
    {
      "cell_type": "code",
      "source": [
        "random_tensor = torch.rand(2,3,4)"
      ],
      "metadata": {
        "id": "_9dX5aw1fYqY"
      },
      "execution_count": 6,
      "outputs": []
    },
    {
      "cell_type": "code",
      "source": [
        "random_tensor"
      ],
      "metadata": {
        "colab": {
          "base_uri": "https://localhost:8080/"
        },
        "id": "k6i62CWPf_-Y",
        "outputId": "8c3d2d19-f6ce-4280-cc1a-0212efc25f55"
      },
      "execution_count": 7,
      "outputs": [
        {
          "output_type": "execute_result",
          "data": {
            "text/plain": [
              "tensor([[[0.5060, 0.3665, 0.7150, 0.0582],\n",
              "         [0.6976, 0.4494, 0.7398, 0.1570],\n",
              "         [0.2134, 0.7814, 0.4825, 0.4646]],\n",
              "\n",
              "        [[0.2246, 0.3119, 0.3782, 0.0753],\n",
              "         [0.6799, 0.4313, 0.3247, 0.6458],\n",
              "         [0.0810, 0.6893, 0.8187, 0.6344]]])"
            ]
          },
          "metadata": {},
          "execution_count": 7
        }
      ]
    },
    {
      "cell_type": "code",
      "source": [
        "random_image_size_tensor = torch.rand(size=(224,224,3))"
      ],
      "metadata": {
        "id": "7NNAmXD-gW2q"
      },
      "execution_count": 8,
      "outputs": []
    },
    {
      "cell_type": "code",
      "source": [
        "random_image_size_tensor"
      ],
      "metadata": {
        "colab": {
          "base_uri": "https://localhost:8080/"
        },
        "id": "07v3V_PxgaH-",
        "outputId": "acbefbdb-94ff-4f72-947f-1b95a0929368"
      },
      "execution_count": 9,
      "outputs": [
        {
          "output_type": "execute_result",
          "data": {
            "text/plain": [
              "tensor([[[3.6196e-02, 8.4883e-01, 5.1776e-01],\n",
              "         [2.6835e-01, 8.2708e-01, 6.5361e-01],\n",
              "         [1.0567e-01, 7.5634e-01, 5.7762e-01],\n",
              "         ...,\n",
              "         [1.1929e-02, 4.1036e-01, 4.9724e-01],\n",
              "         [3.8842e-01, 6.0260e-01, 7.2990e-01],\n",
              "         [6.6006e-01, 5.9624e-01, 8.9356e-01]],\n",
              "\n",
              "        [[7.5528e-01, 8.2888e-01, 7.9001e-01],\n",
              "         [9.9248e-01, 1.6705e-01, 7.1032e-01],\n",
              "         [6.1441e-01, 5.0593e-01, 6.8122e-01],\n",
              "         ...,\n",
              "         [8.4839e-01, 2.4937e-01, 9.0461e-01],\n",
              "         [5.1154e-01, 8.8458e-01, 3.9277e-01],\n",
              "         [5.0212e-01, 9.4657e-01, 5.7330e-01]],\n",
              "\n",
              "        [[2.4902e-01, 6.2596e-01, 1.7398e-01],\n",
              "         [4.6489e-01, 8.4636e-02, 2.4990e-01],\n",
              "         [3.2661e-01, 6.8837e-01, 7.5952e-01],\n",
              "         ...,\n",
              "         [1.6763e-01, 9.6726e-01, 4.0490e-02],\n",
              "         [1.4456e-01, 2.0390e-01, 2.8021e-02],\n",
              "         [6.0713e-04, 2.4208e-01, 3.0683e-01]],\n",
              "\n",
              "        ...,\n",
              "\n",
              "        [[6.5350e-01, 2.3102e-01, 7.6838e-01],\n",
              "         [3.7505e-01, 4.1558e-01, 5.1171e-02],\n",
              "         [1.0974e-01, 2.7958e-02, 9.5288e-01],\n",
              "         ...,\n",
              "         [5.7210e-02, 8.0939e-01, 7.3914e-01],\n",
              "         [9.7866e-01, 2.0723e-01, 3.9451e-01],\n",
              "         [7.3381e-01, 1.0319e-01, 6.5636e-01]],\n",
              "\n",
              "        [[8.7616e-01, 2.5601e-01, 3.0069e-01],\n",
              "         [3.7155e-01, 2.2124e-01, 8.5430e-01],\n",
              "         [7.3432e-02, 9.0529e-01, 5.9169e-02],\n",
              "         ...,\n",
              "         [5.1298e-02, 4.6075e-01, 5.5551e-01],\n",
              "         [9.3029e-01, 6.6139e-01, 2.8095e-01],\n",
              "         [1.5430e-01, 6.1471e-02, 7.1072e-01]],\n",
              "\n",
              "        [[8.0639e-01, 8.7116e-01, 6.3538e-01],\n",
              "         [6.3871e-01, 1.5614e-01, 4.2413e-01],\n",
              "         [4.8711e-01, 5.5615e-01, 8.8274e-01],\n",
              "         ...,\n",
              "         [4.5562e-01, 3.7071e-01, 4.2433e-01],\n",
              "         [6.9090e-01, 8.9819e-01, 3.7355e-01],\n",
              "         [3.5337e-01, 5.2056e-01, 4.2794e-01]]])"
            ]
          },
          "metadata": {},
          "execution_count": 9
        }
      ]
    },
    {
      "cell_type": "code",
      "source": [
        "ones = torch.ones(size = (3,4))"
      ],
      "metadata": {
        "id": "eXjJC5pcgbgo"
      },
      "execution_count": 10,
      "outputs": []
    },
    {
      "cell_type": "code",
      "source": [
        "ones"
      ],
      "metadata": {
        "colab": {
          "base_uri": "https://localhost:8080/"
        },
        "id": "xqUoWQ1dhB5w",
        "outputId": "cac47785-3055-4992-eed5-4c7f47b2d715"
      },
      "execution_count": 11,
      "outputs": [
        {
          "output_type": "execute_result",
          "data": {
            "text/plain": [
              "tensor([[1., 1., 1., 1.],\n",
              "        [1., 1., 1., 1.],\n",
              "        [1., 1., 1., 1.]])"
            ]
          },
          "metadata": {},
          "execution_count": 11
        }
      ]
    },
    {
      "cell_type": "code",
      "source": [
        "one_to_ten = torch.arange(start=0,end=5)"
      ],
      "metadata": {
        "id": "Vruj5Bl4h9cM"
      },
      "execution_count": 12,
      "outputs": []
    },
    {
      "cell_type": "code",
      "source": [
        "one_to_ten"
      ],
      "metadata": {
        "colab": {
          "base_uri": "https://localhost:8080/"
        },
        "id": "LO77tDfkievB",
        "outputId": "6b80da3c-87e9-4f06-f1da-d93b2ee871ce"
      },
      "execution_count": 13,
      "outputs": [
        {
          "output_type": "execute_result",
          "data": {
            "text/plain": [
              "tensor([0, 1, 2, 3, 4])"
            ]
          },
          "metadata": {},
          "execution_count": 13
        }
      ]
    },
    {
      "cell_type": "code",
      "source": [
        "ten_zeroes = torch.zeros_like(input=one_to_ten)"
      ],
      "metadata": {
        "id": "gwXUV-HJikvw"
      },
      "execution_count": 14,
      "outputs": []
    },
    {
      "cell_type": "code",
      "source": [
        "ten_zeroes"
      ],
      "metadata": {
        "colab": {
          "base_uri": "https://localhost:8080/"
        },
        "id": "zHBlg8RgiubE",
        "outputId": "ffb28a26-139b-4281-b433-4da2690b3239"
      },
      "execution_count": 15,
      "outputs": [
        {
          "output_type": "execute_result",
          "data": {
            "text/plain": [
              "tensor([0, 0, 0, 0, 0])"
            ]
          },
          "metadata": {},
          "execution_count": 15
        }
      ]
    },
    {
      "cell_type": "markdown",
      "source": [
        "# Tensor DataTypes"
      ],
      "metadata": {
        "id": "YeQMQa2xixKw"
      }
    },
    {
      "cell_type": "code",
      "source": [
        "float_32_tensor = torch.tensor([[[3,1],[3,2]]],dtype=torch.float32)"
      ],
      "metadata": {
        "id": "0mfx0EcejObM"
      },
      "execution_count": 16,
      "outputs": []
    },
    {
      "cell_type": "code",
      "source": [
        "float_32_tensor"
      ],
      "metadata": {
        "colab": {
          "base_uri": "https://localhost:8080/"
        },
        "id": "bsPuu-VdjZ1q",
        "outputId": "0d63342d-ea43-4391-f479-4fea53970dc1"
      },
      "execution_count": 17,
      "outputs": [
        {
          "output_type": "execute_result",
          "data": {
            "text/plain": [
              "tensor([[[3., 1.],\n",
              "         [3., 2.]]])"
            ]
          },
          "metadata": {},
          "execution_count": 17
        }
      ]
    },
    {
      "cell_type": "code",
      "source": [
        "float_16_tensor = float_32_tensor.type(torch.float16)"
      ],
      "metadata": {
        "id": "STcoh906jfSz"
      },
      "execution_count": 18,
      "outputs": []
    },
    {
      "cell_type": "code",
      "source": [
        "float_result = float_16_tensor * float_32_tensor\n",
        "float_result.dtype"
      ],
      "metadata": {
        "colab": {
          "base_uri": "https://localhost:8080/"
        },
        "id": "sI-TzTQGlSQb",
        "outputId": "9e01d6e0-ec6b-4176-e6d3-6700f79ee051"
      },
      "execution_count": 19,
      "outputs": [
        {
          "output_type": "execute_result",
          "data": {
            "text/plain": [
              "torch.float32"
            ]
          },
          "metadata": {},
          "execution_count": 19
        }
      ]
    },
    {
      "cell_type": "code",
      "source": [
        "ones"
      ],
      "metadata": {
        "colab": {
          "base_uri": "https://localhost:8080/"
        },
        "id": "CrrEvKxDlW7z",
        "outputId": "fcccd1df-6a88-4ab8-8357-273ee93a35e2"
      },
      "execution_count": 20,
      "outputs": [
        {
          "output_type": "execute_result",
          "data": {
            "text/plain": [
              "tensor([[1., 1., 1., 1.],\n",
              "        [1., 1., 1., 1.],\n",
              "        [1., 1., 1., 1.]])"
            ]
          },
          "metadata": {},
          "execution_count": 20
        }
      ]
    },
    {
      "cell_type": "code",
      "source": [
        "ones.T"
      ],
      "metadata": {
        "colab": {
          "base_uri": "https://localhost:8080/"
        },
        "id": "W03pjxYIuAlR",
        "outputId": "0bd8a339-0dc2-44a9-9e22-ee228a3dcecf"
      },
      "execution_count": 21,
      "outputs": [
        {
          "output_type": "execute_result",
          "data": {
            "text/plain": [
              "tensor([[1., 1., 1.],\n",
              "        [1., 1., 1.],\n",
              "        [1., 1., 1.],\n",
              "        [1., 1., 1.]])"
            ]
          },
          "metadata": {},
          "execution_count": 21
        }
      ]
    },
    {
      "cell_type": "code",
      "source": [
        "print(ones.transpose)"
      ],
      "metadata": {
        "colab": {
          "base_uri": "https://localhost:8080/"
        },
        "id": "0wP3fazouBYy",
        "outputId": "e211c4d6-aa05-4c73-fc7d-53c1590fa1b2"
      },
      "execution_count": 22,
      "outputs": [
        {
          "output_type": "stream",
          "name": "stdout",
          "text": [
            "<built-in method transpose of Tensor object at 0x7a48d4fc0540>\n"
          ]
        }
      ]
    },
    {
      "cell_type": "code",
      "source": [
        "# Create a tensor of shape (2, 3, 4)\n",
        "tensor = torch.arange(24).reshape(2, 3, 4)\n",
        "print(\"Original tensor shape:\", tensor.shape)\n",
        "print(\"Original tensor:\\n\", tensor)\n",
        "\n",
        "# Permute the tensor dimensions\n",
        "permuted_tensor = tensor.permute(1, 0, 2)\n",
        "print(\"\\nPermuted tensor shape:\", permuted_tensor.shape)\n",
        "print(\"Permuted tensor:\\n\", permuted_tensor)\n",
        "\n",
        "# Reshape the tensor\n",
        "reshaped_tensor = tensor.reshape(3, 8)\n",
        "print(\"\\nReshaped tensor shape:\", reshaped_tensor.shape)\n",
        "print(\"Reshaped tensor:\\n\", reshaped_tensor)"
      ],
      "metadata": {
        "colab": {
          "base_uri": "https://localhost:8080/"
        },
        "id": "CfLkXjfGqLEp",
        "outputId": "018b5b06-4295-4dc3-e1d4-439b94abb64d"
      },
      "execution_count": 23,
      "outputs": [
        {
          "output_type": "stream",
          "name": "stdout",
          "text": [
            "Original tensor shape: torch.Size([2, 3, 4])\n",
            "Original tensor:\n",
            " tensor([[[ 0,  1,  2,  3],\n",
            "         [ 4,  5,  6,  7],\n",
            "         [ 8,  9, 10, 11]],\n",
            "\n",
            "        [[12, 13, 14, 15],\n",
            "         [16, 17, 18, 19],\n",
            "         [20, 21, 22, 23]]])\n",
            "\n",
            "Permuted tensor shape: torch.Size([3, 2, 4])\n",
            "Permuted tensor:\n",
            " tensor([[[ 0,  1,  2,  3],\n",
            "         [12, 13, 14, 15]],\n",
            "\n",
            "        [[ 4,  5,  6,  7],\n",
            "         [16, 17, 18, 19]],\n",
            "\n",
            "        [[ 8,  9, 10, 11],\n",
            "         [20, 21, 22, 23]]])\n",
            "\n",
            "Reshaped tensor shape: torch.Size([3, 8])\n",
            "Reshaped tensor:\n",
            " tensor([[ 0,  1,  2,  3,  4,  5,  6,  7],\n",
            "        [ 8,  9, 10, 11, 12, 13, 14, 15],\n",
            "        [16, 17, 18, 19, 20, 21, 22, 23]])\n"
          ]
        }
      ]
    },
    {
      "cell_type": "code",
      "source": [
        "# Create *known* parameters\n",
        "weight = 0.7\n",
        "bias = 0.3\n",
        "\n",
        "# Create data\n",
        "start = 0\n",
        "end = 1\n",
        "step = 0.02\n",
        "X = torch.arange(start, end, step).unsqueeze(dim=1)\n",
        "y = weight * X + bias\n",
        "\n",
        "X[:10], y[:10]"
      ],
      "metadata": {
        "colab": {
          "base_uri": "https://localhost:8080/"
        },
        "id": "5W4Qj5Zcn5lu",
        "outputId": "2a299800-3778-460f-8b0d-7ae0933d5afe"
      },
      "execution_count": 24,
      "outputs": [
        {
          "output_type": "execute_result",
          "data": {
            "text/plain": [
              "(tensor([[0.0000],\n",
              "         [0.0200],\n",
              "         [0.0400],\n",
              "         [0.0600],\n",
              "         [0.0800],\n",
              "         [0.1000],\n",
              "         [0.1200],\n",
              "         [0.1400],\n",
              "         [0.1600],\n",
              "         [0.1800]]),\n",
              " tensor([[0.3000],\n",
              "         [0.3140],\n",
              "         [0.3280],\n",
              "         [0.3420],\n",
              "         [0.3560],\n",
              "         [0.3700],\n",
              "         [0.3840],\n",
              "         [0.3980],\n",
              "         [0.4120],\n",
              "         [0.4260]]))"
            ]
          },
          "metadata": {},
          "execution_count": 24
        }
      ]
    },
    {
      "cell_type": "markdown",
      "source": [
        "## Training Linear Regression Model"
      ],
      "metadata": {
        "id": "i-icDTvFA9l7"
      }
    },
    {
      "cell_type": "code",
      "source": [
        "X = torch.rand(size=(5,1))\n",
        "m = 0.3\n",
        "c = 0.2\n",
        "y = m * X + c"
      ],
      "metadata": {
        "id": "oAySQvh9BFmr"
      },
      "execution_count": 25,
      "outputs": []
    },
    {
      "cell_type": "code",
      "source": [
        "print(X)\n",
        "print(y)"
      ],
      "metadata": {
        "colab": {
          "base_uri": "https://localhost:8080/"
        },
        "id": "_XxLNrxGBQJA",
        "outputId": "70a03051-cba9-4e82-a4c6-8ffbfefb1272"
      },
      "execution_count": 26,
      "outputs": [
        {
          "output_type": "stream",
          "name": "stdout",
          "text": [
            "tensor([[0.6551],\n",
            "        [0.0964],\n",
            "        [0.0564],\n",
            "        [0.9472],\n",
            "        [0.6780]])\n",
            "tensor([[0.3965],\n",
            "        [0.2289],\n",
            "        [0.2169],\n",
            "        [0.4842],\n",
            "        [0.4034]])\n"
          ]
        }
      ]
    },
    {
      "cell_type": "code",
      "source": [
        "from torch import nn\n",
        "\n",
        "class LinearRegressionModel(nn.Module):"
      ],
      "metadata": {
        "id": "fkgf5wfYfnd2"
      },
      "execution_count": null,
      "outputs": []
    }
  ]
}